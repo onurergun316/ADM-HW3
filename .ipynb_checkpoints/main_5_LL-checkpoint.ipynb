{
 "cells": [
  {
   "cell_type": "markdown",
   "id": "15fd682c",
   "metadata": {},
   "source": [
    "# 5. Algorithmic question"
   ]
  },
  {
   "cell_type": "markdown",
   "id": "18c47c5f",
   "metadata": {},
   "source": [
    "**Disclamair**: I took and adapted some of the following coding ideas from https://www.geeksforgeeks.org/k-maximum-sums-non-overlapping-contiguous-sub-arrays/ and also from the discussions on\n",
    "https://www.hackerrank.com/challenges/maximum-subarray-sum/problem."
   ]
  },
  {
   "cell_type": "markdown",
   "id": "9fae06d9",
   "metadata": {},
   "source": [
    "\n",
    "Consult for managing back-to-back sequences of requests for appointments. A sequence of requests is of the form `[30, 40, 25, 50, 30, 20]` where each number is the time that the person who makes the appointment wants to spend. Aaccept some requests with a break between them. Two consecutive requests are not accepptable. \n",
    "\n",
    "For example, `[30, 50, 20]` is an acceptable solution (of duration 100), but `[30, 40, 50, 20]` is not, because 30 and 40 are two consecutive appointments. \n",
    "\n",
    "**Goal**: provide a schedule that maximizes the total length of the accepted appointments. Provide also:\n",
    "- an algorithm that computes the acceptable solution with the longest possible duration;\n",
    "- a program that given in input an instance in the form given above, gives the optimal solution\n",
    "\n",
    "For example, in the previous instance, the optimal solution is `[40, 50, 20]`, of total duration 110."
   ]
  },
  {
   "cell_type": "markdown",
   "id": "7692a707",
   "metadata": {},
   "source": [
    "## Formalization of the problem"
   ]
  },
  {
   "cell_type": "markdown",
   "id": "2e8abb8e",
   "metadata": {},
   "source": [
    "Given an array of positive integers, find the maximum sum of all the subsequences with the constraint that no two numbers in the subsequences are adjacent in the array and return both the maximum sum and the subsequence(s) that realize the maximum sum. If $f=f(v)$ is the function we want to implement and $v=(30, 40, 25, 50, 30, 20)$, then we should have $f(v)=(40, 50, 20)$ with sum $s=110$, as in the example above."
   ]
  },
  {
   "cell_type": "markdown",
   "id": "e26ed821",
   "metadata": {},
   "source": [
    "**Algorithmic idea: Dynamic programming**. Given an array $v$, let $v^*[i]$ be the optimal solution using the elements with indices $0,..,i$. In order to have a recursive algorithm that terminates set $v^*[0] = v[0]$, and  $v^*[i] = \\max(v^*[i - 1], v^*[i - 2] + v[i])$ for $i = 1, ..., n$ (where $n$ is the dimension of the array given in input). Clearly $v^*[n]$ is the solution we want and it is obteined in $O(n)$. We can then use another array to store which choice is made for each subproblem, and so recover the actual elements chosen.\n",
    "\n",
    "The same idea can be used to solve a more general problem as shown in the examples at the end of this paragraph."
   ]
  },
  {
   "cell_type": "markdown",
   "id": "c23f36bc",
   "metadata": {},
   "source": [
    "## Code"
   ]
  },
  {
   "cell_type": "code",
   "execution_count": 1,
   "id": "7dec1b8f",
   "metadata": {},
   "outputs": [],
   "source": [
    "# allows to initialize dictionaries with a lambda function \n",
    "# and provides the default value for a nonexistent key.\n",
    "#so a defaultdict will never raise a KeyError.\n",
    "from collections import defaultdict"
   ]
  },
  {
   "cell_type": "code",
   "execution_count": 2,
   "id": "aacdd358",
   "metadata": {},
   "outputs": [],
   "source": [
    "dd = defaultdict(lambda: -1)\n",
    "prefix_sum = []\n",
    "trace = []"
   ]
  },
  {
   "cell_type": "code",
   "execution_count": 3,
   "id": "eac913c9",
   "metadata": {},
   "outputs": [],
   "source": [
    "def sub_array_sum(i, j):\n",
    "    \"\"\"\n",
    "    Input: indexes i,j of an array v with i<j\n",
    "    Output: v[i]+v[i+1]+...+v[j-1]+v[j]\n",
    "    Remark: if i>j returns 0\n",
    "    \"\"\"\n",
    "    if i == 0:\n",
    "        return prefix_sum[j]\n",
    "    return (prefix_sum[j] - prefix_sum[i - 1])"
   ]
  },
  {
   "cell_type": "code",
   "execution_count": 4,
   "id": "a6ca8e1c",
   "metadata": {},
   "outputs": [],
   "source": [
    "def maximum_sum(cur, v, k):\n",
    "    \"\"\"\n",
    "    Input: current element cur, array v, positive integer k \n",
    "    Output: current maximum sum \n",
    "    Remark: this function allows also track the elements that realise the maximum sum.      \n",
    "    \"\"\"\n",
    "    if cur >= len(v):\n",
    "        return 0\n",
    "    if dd[cur] != -1:\n",
    "        return dd[cur]\n",
    "    \n",
    "    # use the following line when all the elements in the array are positive, \n",
    "    # else set s1 and s2 to -Infinity\n",
    "    s1 = -1; s2 = -1\n",
    "    \n",
    "    # choose subarray starting at the current element \"cur\"\n",
    "    if cur + k - 1 < len(v):\n",
    "        # Remark: sub_array_sum(cur,cur)=0\n",
    "        s1 = sub_array_sum(cur, cur + k - 1) + maximum_sum(cur + k + 1, v, k)\n",
    "    \n",
    "    # ignore subarray starting at \"cur\"\n",
    "    s2 = maximum_sum(cur + 1, v, k)\n",
    "    dd[cur] = max(s1, s2)\n",
    "    \n",
    "    if s1 >= s2:\n",
    "        # keep track of the elements that realise the maximum sum\n",
    "        trace[cur] = (True, cur + k + 1)\n",
    "        return s1\n",
    "    trace[cur] = (False, cur + 1)\n",
    "    \n",
    "    return s2"
   ]
  },
  {
   "cell_type": "code",
   "execution_count": 5,
   "id": "bb106191",
   "metadata": {},
   "outputs": [],
   "source": [
    "def sub_array(v, trace, k):\n",
    "    \"\"\"\n",
    "    Input: array v, array trace, positive integer k \n",
    "    Output: optimal solution, i.e. optimal subarray\n",
    "    Remark: this function allows to return non-consecutive subarrays of size k \n",
    "            for every positive integer k, but in our problem only the case \n",
    "            k=1 is of interest.\n",
    "    \"\"\"\n",
    "    i = 0\n",
    "    subArrays = []\n",
    "    for i in range(len(trace)):\n",
    "        if trace[i][0]:\n",
    "            subArrays.append(v[i : i + k])\n",
    "        i = trace[i][1]\n",
    "\n",
    "    return subArrays"
   ]
  },
  {
   "cell_type": "code",
   "execution_count": 6,
   "id": "5cc94b63",
   "metadata": {},
   "outputs": [],
   "source": [
    "def solution(v, k):\n",
    "    \"\"\"\n",
    "    Input: array v, positive integer k \n",
    "    Output: optimal solution, i.e. optimal subarray(s)\n",
    "    Remark: this function allows to return non-consecutive optimal subarray(s) of size k \n",
    "            for every positive integer k, but in our problem only the case \n",
    "            k=1 is of interest.\n",
    "    \"\"\"\n",
    "    global dd, trace, prefix_sum\n",
    "    dd = defaultdict(lambda: -1)\n",
    "    \n",
    "    # initialization\n",
    "    trace = [(False, 0)] * len(v)\n",
    "    prefix_sum = [0] * len(v)\n",
    "    prefix_sum[0] = v[0]\n",
    "    \n",
    "    for i in range(1,len(v)):\n",
    "        prefix_sum[i] += prefix_sum[i - 1] + v[i]\n",
    "        \n",
    "    print(\"Array :\", v)\n",
    "    print(\"Max sum: \", maximum_sum(0, v, k))\n",
    "    print(\"Subarrays: \", sub_array(v, trace, k))"
   ]
  },
  {
   "cell_type": "markdown",
   "id": "24f534e1",
   "metadata": {},
   "source": [
    "## Some examples"
   ]
  },
  {
   "cell_type": "markdown",
   "id": "10fc4d3d",
   "metadata": {},
   "source": [
    "To solve the problem in question always choose $k=1$"
   ]
  },
  {
   "cell_type": "code",
   "execution_count": 7,
   "id": "172f4fb4",
   "metadata": {
    "scrolled": true
   },
   "outputs": [
    {
     "name": "stdout",
     "output_type": "stream",
     "text": [
      "Array : [1, 2, 3, 4, 5]\n",
      "Max sum:  9\n",
      "Subarrays:  [[1], [3], [5]]\n"
     ]
    }
   ],
   "source": [
    "solution([1,2,3,4,5], 1)"
   ]
  },
  {
   "cell_type": "code",
   "execution_count": 8,
   "id": "8968a2ff",
   "metadata": {},
   "outputs": [
    {
     "name": "stdout",
     "output_type": "stream",
     "text": [
      "Array : [30, 40, 25, 50, 30, 20]\n",
      "Max sum:  110\n",
      "Subarrays:  [[40], [50], [30], [20]]\n"
     ]
    }
   ],
   "source": [
    "solution([30, 40, 25, 50, 30, 20], 1)"
   ]
  },
  {
   "cell_type": "markdown",
   "id": "ce65bd5d",
   "metadata": {},
   "source": [
    "## Some examples of solution of a more general problem"
   ]
  },
  {
   "cell_type": "markdown",
   "id": "2b224df3",
   "metadata": {},
   "source": [
    "To sole a generalized version of the problem take $k>1$, as shown below"
   ]
  },
  {
   "cell_type": "code",
   "execution_count": 9,
   "id": "7cc7d337",
   "metadata": {},
   "outputs": [
    {
     "name": "stdout",
     "output_type": "stream",
     "text": [
      "Array : [1, 2, 3, 4, 5]\n",
      "Max sum:  12\n",
      "Subarrays:  [[1, 2], [4, 5]]\n"
     ]
    }
   ],
   "source": [
    "solution([1,2,3,4,5], 2)"
   ]
  },
  {
   "cell_type": "code",
   "execution_count": 10,
   "id": "326421fa",
   "metadata": {},
   "outputs": [
    {
     "name": "stdout",
     "output_type": "stream",
     "text": [
      "Array : [30, 40, 25, 50, 30, 20]\n",
      "Max sum:  150\n",
      "Subarrays:  [[30, 40], [40, 25], [50, 30], [30, 20]]\n"
     ]
    }
   ],
   "source": [
    "solution([30, 40, 25, 50, 30, 20], 2)"
   ]
  },
  {
   "cell_type": "code",
   "execution_count": 11,
   "id": "026c57c4",
   "metadata": {},
   "outputs": [
    {
     "name": "stdout",
     "output_type": "stream",
     "text": [
      "Array : [1, 2, 3, 4, 5]\n",
      "Max sum:  12\n",
      "Subarrays:  [[3, 4, 5]]\n"
     ]
    }
   ],
   "source": [
    "solution([1,2,3,4,5], 3)"
   ]
  },
  {
   "cell_type": "code",
   "execution_count": 12,
   "id": "cbc38624",
   "metadata": {},
   "outputs": [
    {
     "name": "stdout",
     "output_type": "stream",
     "text": [
      "Array : [30, 40, 25, 50, 30, 20]\n",
      "Max sum:  115\n",
      "Subarrays:  [[40, 25, 50], [25, 50, 30], [50, 30, 20]]\n"
     ]
    }
   ],
   "source": [
    "solution([30, 40, 25, 50, 30, 20], 3)"
   ]
  },
  {
   "cell_type": "markdown",
   "id": "7157cd8e",
   "metadata": {},
   "source": [
    "## Problems with the code"
   ]
  },
  {
   "cell_type": "code",
   "execution_count": 13,
   "id": "82bd32a6",
   "metadata": {
    "scrolled": true
   },
   "outputs": [
    {
     "name": "stdout",
     "output_type": "stream",
     "text": [
      "Array : [1, 2, 3, 5, 4]\n",
      "Max sum:  8\n",
      "Subarrays:  [[1], [2], [3], [5], [4]]\n"
     ]
    }
   ],
   "source": [
    "# I don't know why the following happens happens...\n",
    "# The problem seems to be with the function sub_array\n",
    "# I've tryed to add a condition like the following\n",
    "# if subArrays[i][0]-subArray[i-1][0] == v[i] - v[i-1] then do not append the elements starting qith v[i]\n",
    "# but it seems it doesn't work... Any ideas?\n",
    "solution([1,2,3,5,4],1)"
   ]
  },
  {
   "cell_type": "code",
   "execution_count": 14,
   "id": "6351f288",
   "metadata": {},
   "outputs": [
    {
     "name": "stdout",
     "output_type": "stream",
     "text": [
      "Array : [1, 2, 3, 4, 5]\n",
      "Max sum:  9\n",
      "Subarrays:  [[1], [3], [5]]\n"
     ]
    }
   ],
   "source": [
    "solution([1,2,3,4,5],1)"
   ]
  },
  {
   "cell_type": "code",
   "execution_count": 15,
   "id": "ed12570b",
   "metadata": {},
   "outputs": [
    {
     "name": "stdout",
     "output_type": "stream",
     "text": [
      "[1, 3, 4] 8\n"
     ]
    }
   ],
   "source": [
    "f=lambda a:a and max([a[:1],a[:1]+f(a[2:]),f(a[1:])],key=sum)or a\n",
    "for a, s in [([1,2,3,5,4], 1)]:\n",
    "\tprint(f(a), sum(f(a)))"
   ]
  },
  {
   "cell_type": "markdown",
   "id": "38227211",
   "metadata": {},
   "source": [
    "## Alternative solution"
   ]
  },
  {
   "cell_type": "markdown",
   "id": "f0bd142c",
   "metadata": {},
   "source": [
    "With immense surprise we have found that it is possible to solve the problem with just 3 lines of code! See https://codegolf.stackexchange.com/questions/183390/maximum-summed-subsequences-with-non-adjacent-items?answertab=active#tab-top for more deatils. "
   ]
  },
  {
   "cell_type": "markdown",
   "id": "9b11f1f4",
   "metadata": {},
   "source": [
    "Here it is the solution. "
   ]
  },
  {
   "cell_type": "code",
   "execution_count": 16,
   "id": "a4eab4b9",
   "metadata": {},
   "outputs": [],
   "source": [
    "v = [30, 40, 25, 50, 30, 20]\n",
    "k = 1"
   ]
  },
  {
   "cell_type": "code",
   "execution_count": 17,
   "id": "6059c087",
   "metadata": {},
   "outputs": [
    {
     "name": "stdout",
     "output_type": "stream",
     "text": [
      "[40, 50, 20] 110\n"
     ]
    }
   ],
   "source": [
    "f=lambda a:a and max([a[:1],a[:1]+f(a[2:]),f(a[1:])],key=sum)or a\n",
    "for a, s in [(v, k)]:\n",
    "\tprint(f(a), sum(f(a)))"
   ]
  },
  {
   "cell_type": "markdown",
   "id": "495b0923",
   "metadata": {},
   "source": [
    "**Credits**: Chas Brown https://codegolf.stackexchange.com/users/69880/chas-brown"
   ]
  },
  {
   "cell_type": "code",
   "execution_count": null,
   "id": "4629e5fd",
   "metadata": {},
   "outputs": [],
   "source": []
  }
 ],
 "metadata": {
  "kernelspec": {
   "display_name": "Python 3",
   "language": "python",
   "name": "python3"
  },
  "language_info": {
   "codemirror_mode": {
    "name": "ipython",
    "version": 3
   },
   "file_extension": ".py",
   "mimetype": "text/x-python",
   "name": "python",
   "nbconvert_exporter": "python",
   "pygments_lexer": "ipython3",
   "version": "3.8.8"
  }
 },
 "nbformat": 4,
 "nbformat_minor": 5
}
