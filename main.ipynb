{
 "cells": [
  {
   "cell_type": "markdown",
   "id": "cce21419-204f-4f21-8495-f3ba55fd460d",
   "metadata": {},
   "source": [
    "# 1. Data Collection"
   ]
  },
  {
   "cell_type": "markdown",
   "id": "9e24cc26-0ed6-470e-8f0f-84d5d8b85f06",
   "metadata": {},
   "source": [
    "### 1.1 Get the List of Animes"
   ]
  },
  {
   "cell_type": "code",
   "execution_count": 143,
   "id": "0c8e1db3-5871-44b4-b156-5402a9c12434",
   "metadata": {},
   "outputs": [],
   "source": [
    "import requests\n",
    "from bs4 import BeautifulSoup\n",
    "from tqdm import tqdm\n",
    "import urllib.request \n",
    "import os\n",
    "import codecs\n",
    "import pandas as pd\n",
    "from datetime import datetime\n",
    "import time\n",
    "import csv"
   ]
  },
  {
   "cell_type": "markdown",
   "id": "e4be5120-a410-4177-b788-3b8eafc60af7",
   "metadata": {},
   "source": [
    "Downloading each anime's url to a single text file"
   ]
  },
  {
   "cell_type": "code",
   "execution_count": 24,
   "id": "07efba06-f07b-4e2c-ae55-8d7cbb44d85b",
   "metadata": {},
   "outputs": [
    {
     "name": "stderr",
     "output_type": "stream",
     "text": [
      "100%|██████████| 400/400 [05:44<00:00,  1.16it/s]\n"
     ]
    }
   ],
   "source": [
    "links_text = open(\"links.txt\", \"w\")\n",
    "for page in tqdm(range(0, 400)):\n",
    "    url = 'https://myanimelist.net/topanime.php?limit=' + str(page * 50)\n",
    "    response = requests.get(url)\n",
    "    soup = BeautifulSoup(response.text, 'html.parser')\n",
    "    for tag in soup.find_all('tr'):\n",
    "        links = tag.find_all('a')\n",
    "        for link in links:        \n",
    "            if type(link.get('id')) == str and len(link.contents[0]) > 1:\n",
    "                data = link.get('href')\n",
    "                links_text.write(data)\n",
    "                links_text.write(\"\\n\")\n",
    "links_text.close()"
   ]
  },
  {
   "cell_type": "markdown",
   "id": "aaaac8c0-38db-4a7d-b552-52c0025c78d9",
   "metadata": {},
   "source": [
    "Reading how many lines in the text file"
   ]
  },
  {
   "cell_type": "code",
   "execution_count": 25,
   "id": "994484d5-158e-4049-8701-45936a73b4df",
   "metadata": {},
   "outputs": [
    {
     "name": "stdout",
     "output_type": "stream",
     "text": [
      "There are total 19124 lines in this file.\n"
     ]
    }
   ],
   "source": [
    "file = open(\"links.txt\", \"r\")\n",
    "line_count = 0\n",
    "for line in file:\n",
    "    if line != \"\\n\":\n",
    "        line_count += 1\n",
    "file.close()\n",
    "\n",
    "print('There are total {} lines in this file.'.format(line_count))\n"
   ]
  },
  {
   "cell_type": "markdown",
   "id": "20a524d2-565f-4e71-b3f4-a54f6762c173",
   "metadata": {},
   "source": [
    "### 1.2 Crawl the Animes"
   ]
  },
  {
   "cell_type": "code",
   "execution_count": 161,
   "id": "fda82ae7-a073-42a6-a25f-e3a7266a5540",
   "metadata": {},
   "outputs": [],
   "source": [
    "directory = 'html_pages'\n",
    "parent_dir = \"/Users/onurergun/Desktop/ADM-HW3\"\n",
    "path = os.path.join(parent_dir, directory)\n",
    "os.mkdir(path)"
   ]
  },
  {
   "cell_type": "markdown",
   "id": "5d8dfd87-ca7f-4d30-9d3d-c62d75af510c",
   "metadata": {},
   "source": [
    "Creating subfolders for each page of the list </br>\n",
    "After creating the subfolders, we add each html file to corresponding page number folder."
   ]
  },
  {
   "cell_type": "code",
   "execution_count": 7,
   "id": "212ee972-7b5b-44cd-93b1-d5e95b2057a4",
   "metadata": {},
   "outputs": [
    {
     "ename": "FileExistsError",
     "evalue": "[Errno 17] File exists: 'html_pages/page1'",
     "output_type": "error",
     "traceback": [
      "\u001b[0;31m---------------------------------------------------------------------------\u001b[0m",
      "\u001b[0;31mFileExistsError\u001b[0m                           Traceback (most recent call last)",
      "\u001b[0;32m<ipython-input-7-773bdd799eee>\u001b[0m in \u001b[0;36m<module>\u001b[0;34m\u001b[0m\n\u001b[1;32m      6\u001b[0m \u001b[0;32mfor\u001b[0m \u001b[0mi\u001b[0m \u001b[0;32min\u001b[0m \u001b[0mrange\u001b[0m\u001b[0;34m(\u001b[0m\u001b[0;36m1\u001b[0m\u001b[0;34m,\u001b[0m\u001b[0;36m401\u001b[0m\u001b[0;34m)\u001b[0m\u001b[0;34m:\u001b[0m\u001b[0;34m\u001b[0m\u001b[0;34m\u001b[0m\u001b[0m\n\u001b[1;32m      7\u001b[0m     \u001b[0mhtml_page_name\u001b[0m \u001b[0;34m=\u001b[0m \u001b[0;34m'page'\u001b[0m\u001b[0;34m+\u001b[0m\u001b[0mstr\u001b[0m\u001b[0;34m(\u001b[0m\u001b[0mi\u001b[0m\u001b[0;34m)\u001b[0m\u001b[0;34m\u001b[0m\u001b[0;34m\u001b[0m\u001b[0m\n\u001b[0;32m----> 8\u001b[0;31m     \u001b[0mos\u001b[0m\u001b[0;34m.\u001b[0m\u001b[0mmakedirs\u001b[0m\u001b[0;34m(\u001b[0m\u001b[0mos\u001b[0m\u001b[0;34m.\u001b[0m\u001b[0mpath\u001b[0m\u001b[0;34m.\u001b[0m\u001b[0mjoin\u001b[0m\u001b[0;34m(\u001b[0m\u001b[0mdirectory\u001b[0m\u001b[0;34m,\u001b[0m \u001b[0mhtml_page_name\u001b[0m \u001b[0;34m)\u001b[0m\u001b[0;34m)\u001b[0m\u001b[0;34m\u001b[0m\u001b[0;34m\u001b[0m\u001b[0m\n\u001b[0m\u001b[1;32m      9\u001b[0m     \u001b[0mdirectory_subfolder\u001b[0m \u001b[0;34m=\u001b[0m \u001b[0mdirectory\u001b[0m\u001b[0;34m+\u001b[0m\u001b[0;34m'/'\u001b[0m\u001b[0;34m+\u001b[0m\u001b[0mhtml_page_name\u001b[0m\u001b[0;34m+\u001b[0m\u001b[0;34m'/'\u001b[0m\u001b[0;34m\u001b[0m\u001b[0;34m\u001b[0m\u001b[0m\n\u001b[1;32m     10\u001b[0m \u001b[0;34m\u001b[0m\u001b[0m\n",
      "\u001b[0;32m/opt/anaconda3/lib/python3.8/os.py\u001b[0m in \u001b[0;36mmakedirs\u001b[0;34m(name, mode, exist_ok)\u001b[0m\n\u001b[1;32m    221\u001b[0m             \u001b[0;32mreturn\u001b[0m\u001b[0;34m\u001b[0m\u001b[0;34m\u001b[0m\u001b[0m\n\u001b[1;32m    222\u001b[0m     \u001b[0;32mtry\u001b[0m\u001b[0;34m:\u001b[0m\u001b[0;34m\u001b[0m\u001b[0;34m\u001b[0m\u001b[0m\n\u001b[0;32m--> 223\u001b[0;31m         \u001b[0mmkdir\u001b[0m\u001b[0;34m(\u001b[0m\u001b[0mname\u001b[0m\u001b[0;34m,\u001b[0m \u001b[0mmode\u001b[0m\u001b[0;34m)\u001b[0m\u001b[0;34m\u001b[0m\u001b[0;34m\u001b[0m\u001b[0m\n\u001b[0m\u001b[1;32m    224\u001b[0m     \u001b[0;32mexcept\u001b[0m \u001b[0mOSError\u001b[0m\u001b[0;34m:\u001b[0m\u001b[0;34m\u001b[0m\u001b[0;34m\u001b[0m\u001b[0m\n\u001b[1;32m    225\u001b[0m         \u001b[0;31m# Cannot rely on checking for EEXIST, since the operating system\u001b[0m\u001b[0;34m\u001b[0m\u001b[0;34m\u001b[0m\u001b[0;34m\u001b[0m\u001b[0m\n",
      "\u001b[0;31mFileExistsError\u001b[0m: [Errno 17] File exists: 'html_pages/page1'"
     ]
    }
   ],
   "source": [
    "directory = 'html_pages'\n",
    "file_read = open('links.txt', 'r')\n",
    "anime_urls_list = file_read.readlines()\n",
    "file_read.close()\n",
    "\n",
    "for i in range(1,401):\n",
    "    html_page_name = 'page'+str(i)\n",
    "    os.makedirs(os.path.join(directory, html_page_name ))\n",
    "    directory_subfolder = directory+'/'+html_page_name+'/'\n",
    "    \n",
    "    for j in range(1,51):\n",
    "        anime_num = 50*(i-1)+j\n",
    "        html_file_name = directory_subfolder+'article_'+str(anime_num)+'.html'\n",
    "        temp_text = open(html_file_name, \"w\")\n",
    "        url = anime_urls_list[(anime_num-1)].encode('ascii','backslashreplace').decode('utf-8')\n",
    "        urllib.request.urlretrieve(url,html_file_name)\n",
    "        temp_text.close()"
   ]
  },
  {
   "cell_type": "markdown",
   "id": "be6eede5-7e17-4b54-be30-1aca615714f0",
   "metadata": {},
   "source": [
    "### 1.3 Parse downloaded pages\n"
   ]
  },
  {
   "cell_type": "code",
   "execution_count": 5,
   "id": "e5b58bf8-e034-4326-b495-4aa73271f140",
   "metadata": {},
   "outputs": [],
   "source": [
    "animeTitle = []\n",
    "animeType = []\n",
    "animeNumEpisode = []\n",
    "releaseDate = []\n",
    "endDate = []\n",
    "animeNumMembers = []\n",
    "animeScore = []\n",
    "animeUsers = []\n",
    "animeRank = []\n",
    "animePopularity = []\n",
    "animeDescription = []\n",
    "animeRelated = []\n",
    "animeCharacters = []\n",
    "animeVoices = []\n",
    "animeStaff = []\n",
    "directory = 'html_pages'"
   ]
  },
  {
   "cell_type": "code",
   "execution_count": 6,
   "id": "0f522dff-cd24-4809-b767-529ffb1f784d",
   "metadata": {},
   "outputs": [],
   "source": [
    "def parse_function(html_file_path):\n",
    "    \"\"\"\n",
    "    Function that extracts anime's informations.\n",
    "    Input: path (a string that is related to the position of each anime page in the folder tree)\n",
    "    Output: a list of lists with all the informations mentioned above\n",
    "    \"\"\"\n",
    "    # take article_i.html from the directory \n",
    "    soup = BeautifulSoup(open(html_file_path), \"html.parser\")\n",
    "    divs = soup.find_all(\"div\", {\"class\": \"spaceit_pad\"})\n",
    "    try:\n",
    "        animeTitle.append(str(soup.find_all('strong')[0].contents[0]))\n",
    "    except:\n",
    "        animeTitle.append('')\n",
    "\n",
    "    for div in divs:\n",
    "        spans = div.find_all(\"span\")\n",
    "        for span in spans:\n",
    "            # TYPES\n",
    "            if span.contents[0] == 'Type:':\n",
    "                try:\n",
    "                    animeType.append(str(div.find_all('a')[0].contents[0]))\n",
    "                except:\n",
    "                    animeType.append('NA')\n",
    "            # NUMBER OF EPISODES\n",
    "            if span.contents[0] == 'Episodes:':\n",
    "                try: \n",
    "                    animeNumEpisode.append(int(div.contents[2]))\n",
    "                except:\n",
    "                    animeNumEpisode.append(0)\n",
    "            # DATES\n",
    "            if span.contents[0] == 'Aired:':\n",
    "                try:\n",
    "                    if len(div.contents[2]) > 21:\n",
    "                        release = pd.to_datetime(div.contents[2][1:16]).to_pydatetime().strftime('%m/%d/%Y')\n",
    "                        releaseDate.append(release)\n",
    "                        end = pd.to_datetime(div.contents[2][1:16]).to_pydatetime().strftime('%m/%d/%Y')\n",
    "                        endDate.append(end)\n",
    "                    else:\n",
    "                        release = pd.to_datetime(div.contents[2][1:16]).to_pydatetime().strftime('%m/%d/%Y')\n",
    "                        releaseDate.append(release)\n",
    "                        endDate.append('-')\n",
    "                except:\n",
    "                        releaseDate.append('')\n",
    "                        endDate.append('')\n",
    "\n",
    "    divs = soup.find_all(\"div\", {\"class\": \"stats-block po-r clearfix\"})\n",
    "    for div in divs:\n",
    "        \n",
    "        # MEMBERS\n",
    "        members = div.find_all(\"span\", {\"class\": \"numbers members\"})\n",
    "        animeNumMembers.append(int(members[0].contents[1].contents[0].replace(',', '')))\n",
    "        \n",
    "        \n",
    "        # SCORE\n",
    "        # center of the html page\n",
    "        rating=soup.find(name=\"div\",attrs={\"class\":\"fl-l score\"})\n",
    "        try:        \n",
    "            animeScore.append(float(rating.text.strip()))\n",
    "        except:\n",
    "            animeScore.append(None)\n",
    "\n",
    "     \n",
    "        # USERS\n",
    "        users = div.find_all(\"div\", {\"class\": \"fl-l score\"})\n",
    "        # here we we eliminate the word 'user '   \n",
    "        # that is why there is the [:-6] part\n",
    "        # we also replace the comma divisor\n",
    "        try:\n",
    "            animeUsers.append(int(users[0]['data-user'][:-6].replace(',', '')))\n",
    "        except:\n",
    "            animeUsers.append(0)\n",
    "\n",
    "\n",
    "        # RANK\n",
    "        rank = div.find_all(\"span\", {\"class\": \"numbers ranked\"})\n",
    "        try:\n",
    "            animeRank.append(int(rank[0].contents[1].contents[0][1:]))\n",
    "        except:\n",
    "            animeRank.append(None)\n",
    "\n",
    "        # POPULARITY\n",
    "        popularity = div.find_all(\"span\", {\"class\": \"numbers popularity\"})\n",
    "        animePopularity.append(int(popularity[0].contents[1].contents[0][1:]))\n",
    "    \n",
    "    # DESCRIPTION\n",
    "    # center of the html page\n",
    "    animeDescription.append(soup.find_all(\"p\", itemprop = \"description\")[0].text.strip().replace('\\n', '').replace('  ', ''))\n",
    "\n",
    "\n",
    "    # RELATED \n",
    "    related = soup.find_all(\"table\", {\"class\": \"anime_detail_related_anime\"})\n",
    "    if(len(related)!=0):\n",
    "        x = []\n",
    "        y = []\n",
    "        for tr in related:\n",
    "            td = tr.find_all(\"td\")\n",
    "            for i in range(0, len(td), 2):\n",
    "                x.append(td[i].contents[0])\n",
    "                t = td[i+1].find_all(\"a\")\n",
    "                if(len(t[0].contents)!=0):  \n",
    "                    y.append(t[0].contents[0])\n",
    "                else:\n",
    "                    y.append(' ')\n",
    "            animeRelated.append('\\n'.join([f'{x} {y}' for x, y in dict(zip(x, y)).items()]).split('\\n'))\n",
    "    else:\n",
    "        animeRelated.append(' ')\n",
    "    \n",
    "    # CHARACTERS\n",
    "    try:\n",
    "        characters = soup.find_all(\"div\", {\"class\": \"detail-characters-list clearfix\"})\n",
    "        chars = characters[0].find_all(\"h3\", {\"class\": \"h3_characters_voice_actors\"})\n",
    "        x = []\n",
    "        for i in chars:\n",
    "            x.append(i.contents[0].contents[0])\n",
    "        animeCharacters.append(x)\n",
    "    except:\n",
    "        animeCharacters.append(\" \")\n",
    "    \n",
    "    \n",
    "   # VOICES\n",
    "    try:\n",
    "        voices = characters[0].find_all(\"td\", {\"class\": \"va-t ar pl4 pr4\"})\n",
    "        y = []\n",
    "        for i in voices:\n",
    "            y.append(i.contents[1].contents[0])\n",
    "        animeVoices.append(y)\n",
    "    except:\n",
    "        animeVoices.append(\" \")\n",
    "    \n",
    "    # STAFF\n",
    "    try:\n",
    "        staff = soup.find_all(\"div\", {\"class\": \"detail-characters-list clearfix\"})\n",
    "        staff = staff[1].find_all(\"td\")\n",
    "        x = []\n",
    "        y = []\n",
    "        for i in range(1, len(staff), 2):\n",
    "            x.append(staff[i].contents[1].contents[0])\n",
    "            y.append(staff[i].find_all(\"small\")[0].contents[0])\n",
    "        animeStaff.append([list(i) for i in list(zip(x,y))])\n",
    "    \n",
    "    except:\n",
    "        animeStaff.append(\" \")\n",
    "               "
   ]
  },
  {
   "cell_type": "code",
   "execution_count": 7,
   "id": "9001ff2c-b7cc-4e70-9491-a06c17f71e26",
   "metadata": {},
   "outputs": [],
   "source": [
    "os.makedirs('tsv_files')"
   ]
  },
  {
   "cell_type": "code",
   "execution_count": 8,
   "id": "32ed06c8-5cc5-4153-b38c-e8e14cc1b24c",
   "metadata": {},
   "outputs": [],
   "source": [
    "def tsv_create(i):\n",
    "    tsv_columns = ['animeTitle','animeType','animeNumEpisode','releaseDate','endDate','animeNumMembers','animeScore',\n",
    "                  'animeUsers','animeRank','animePopularity','animeDescription','animeRelated','animeCharacters',\n",
    "                  'animeVoices','animeStaff']\n",
    "    data = zip([animeTitle[i-1]],[animeType[i-1]],[animeNumEpisode[i-1]],[releaseDate[i-1]],[endDate[i-1]],[animeNumMembers[i-1]],[animeScore[i-1]],[animeUsers[i-1]],[animeRank[i-1]],[animePopularity[i-1]],[animeDescription[i-1]],[animeRelated[i-1]],[animeCharacters[i-1]],[animeVoices[i-1]],[animeStaff[i-1]])\n",
    "    tsv_file_name = 'tsv_files/anime_'+str(i)+'.tsv'\n",
    "    with open(tsv_file_name, 'w', newline='') as f_output:\n",
    "        tsv_output = csv.writer(f_output, delimiter='\\t')\n",
    "        tsv_output.writerow(tsv_columns)\n",
    "        for title,typ,numEp,relD,endD,numMem,score,user,rank,popularity,descr,relat,charac,voices,staff in data:\n",
    "                tsv_output.writerow([title,typ,numEp,relD,endD,numMem,score,user,rank,popularity,descr,relat,charac,voices,staff])\n"
   ]
  },
  {
   "cell_type": "code",
   "execution_count": 9,
   "id": "ba2e7d98-3a8a-4395-944a-20a6d598ffa3",
   "metadata": {},
   "outputs": [],
   "source": [
    "for i in range(1,384):\n",
    "    html_page_name = 'page'+str(i)\n",
    "    directory_subfolder = directory+'/'+html_page_name+'/'\n",
    "    if(i!=383):\n",
    "        # 383th page has less than 50 animes\n",
    "        for j in range(1,51):\n",
    "            anime_num = 50*(i-1)+j\n",
    "            html_file_path = directory_subfolder+'article_'+str(anime_num)+'.html'\n",
    "            soup = BeautifulSoup(open(html_file_path), \"html.parser\")\n",
    "            parse_function(html_file_path)\n",
    "            tsv_create(anime_num)\n",
    "    else:\n",
    "        for j in range(1,25):\n",
    "            anime_num = 50*(i-1)+j\n",
    "            html_file_path = directory_subfolder+'article_'+str(anime_num)+'.html'\n",
    "            soup = BeautifulSoup(open(html_file_path), \"html.parser\")\n",
    "            parse_function(html_file_path)\n",
    "            tsv_create(anime_num)"
   ]
  },
  {
   "cell_type": "markdown",
   "id": "79389ea5-29bc-4631-a0ed-f83754e0a8b3",
   "metadata": {},
   "source": [
    "# 2. Search Engine\n"
   ]
  },
  {
   "cell_type": "markdown",
   "id": "abbdbe4b-c45e-448a-90bb-793d66cb2c93",
   "metadata": {},
   "source": [
    "### Preprocessing of the information"
   ]
  },
  {
   "cell_type": "code",
   "execution_count": 147,
   "id": "db132e30-99e9-4336-9a3b-60a32a6fea0f",
   "metadata": {},
   "outputs": [],
   "source": [
    "from nltk.corpus import stopwords\n",
    "from nltk.stem.snowball import SnowballStemmer\n",
    "from nltk.stem import PorterStemmer\n",
    "from nltk.tokenize import RegexpTokenizer\n",
    "import numpy as np\n",
    "import json"
   ]
  },
  {
   "cell_type": "code",
   "execution_count": 148,
   "id": "474e1e88-3153-4bef-af16-06d97299da62",
   "metadata": {},
   "outputs": [],
   "source": [
    "stop = stopwords.words('english')\n",
    "porter_stemmer = PorterStemmer()"
   ]
  },
  {
   "cell_type": "code",
   "execution_count": 149,
   "id": "f466b710-6907-4798-9fc7-3ab0a4f4c9f8",
   "metadata": {},
   "outputs": [],
   "source": [
    "def stem_sentences(sentence):\n",
    "    tokens = sentence.split()\n",
    "    stemmed_tokens = [porter_stemmer.stem(token) for token in tokens]\n",
    "    return ' '.join(stemmed_tokens)\n"
   ]
  },
  {
   "cell_type": "code",
   "execution_count": 150,
   "id": "1e525f46-f097-414e-ac82-3f2f0afa5efc",
   "metadata": {},
   "outputs": [],
   "source": [
    "animeTitle_list = []\n",
    "animeDescription_list = []"
   ]
  },
  {
   "cell_type": "code",
   "execution_count": 151,
   "id": "6029eaab-8a87-4b23-91b3-ce28379cee80",
   "metadata": {},
   "outputs": [],
   "source": [
    "# creating a lists from tsv files\n",
    "for i in range(0,19124):\n",
    "    anime_tsv = open('tsv_files/anime_'+str(i+1)+'.tsv', 'r',encoding=\"utf8\")\n",
    "    data=pd.read_table(anime_tsv)[['animeTitle','animeDescription']]\n",
    "    data['animeTitle'] = data['animeTitle'].astype(str)\n",
    "    data['animeDescription'] = data['animeDescription'].astype(str)\n",
    "    animeTitle_list.append(str(data.animeTitle[0]))\n",
    "    animeDescription_list.append(str(data.animeDescription[0]))"
   ]
  },
  {
   "cell_type": "code",
   "execution_count": 152,
   "id": "1b848d3e-11cd-4955-a3df-2b79e3b44560",
   "metadata": {},
   "outputs": [],
   "source": [
    "# concetenating lists to create a dataframe\n",
    "anime_df = pd.DataFrame(np.column_stack([animeTitle_list, animeDescription_list]), \n",
    "                               columns=['animeTitle', 'animeDescription'])"
   ]
  },
  {
   "cell_type": "markdown",
   "id": "8f1610c5-d6f9-4711-9c50-8483bf773aab",
   "metadata": {},
   "source": [
    "Checking if there is a mismatch on the dataframe"
   ]
  },
  {
   "cell_type": "code",
   "execution_count": 153,
   "id": "aac76e83-4f8b-4600-94bd-9c63ad0db1a2",
   "metadata": {
    "tags": []
   },
   "outputs": [
    {
     "name": "stderr",
     "output_type": "stream",
     "text": [
      "<ipython-input-153-b8d327cbacaf>:5: FutureWarning: The default value of regex will change from True to False in a future version.\n",
      "  anime_df['animeDescription'] = anime_df['animeDescription'].str.replace('[^\\w\\s]',' ')\n"
     ]
    }
   ],
   "source": [
    "# removing stopwords from the dataframe\n",
    "anime_df['animeDescription']  = anime_df['animeDescription'].apply(lambda x: ' '.join([word for word in x.split() if word not in (stop)]))\n",
    "\n",
    "# removing punctuations from the dataframe\n",
    "anime_df['animeDescription'] = anime_df['animeDescription'].str.replace('[^\\w\\s]',' ')\n",
    "\n",
    "# stemming the dataframe \n",
    "anime_df['animeDescription'] = anime_df['animeDescription'].apply(stem_sentences)\n"
   ]
  },
  {
   "cell_type": "code",
   "execution_count": 154,
   "id": "38eedf2d-21d4-4e8b-bd88-c1ef3d44aad5",
   "metadata": {},
   "outputs": [],
   "source": [
    "words_list = ' '.join([i for i in anime_df['animeDescription']]).split()"
   ]
  },
  {
   "cell_type": "markdown",
   "id": "3d4a4ac3-69fb-4ede-b763-55c862ff8296",
   "metadata": {},
   "source": [
    "### 2.1. Conjunctive query\n"
   ]
  },
  {
   "cell_type": "code",
   "execution_count": 155,
   "id": "6a7472b4-b9a1-4e08-8b03-5787f9fd4ab6",
   "metadata": {},
   "outputs": [],
   "source": [
    "# removing the duplicate words\n",
    "words_dict = set(words_list)\n",
    "\n",
    "# Assign a unique integer id to each non duplicate words\n",
    "vocabulary = {}\n",
    "i=1\n",
    "for word in words_dict:\n",
    "    vocabulary.update({i:word})\n",
    "    i+=1"
   ]
  },
  {
   "cell_type": "markdown",
   "id": "9be7ec6e-92c7-4f12-98c0-32425be43830",
   "metadata": {},
   "source": [
    "#### 2.1.1 Create your index!\n"
   ]
  },
  {
   "cell_type": "markdown",
   "id": "dc060b1f-9554-4094-a315-d16c1e07c747",
   "metadata": {},
   "source": [
    "Creating the vocabulary json file that we store for each nun duplicate words with id number "
   ]
  },
  {
   "cell_type": "code",
   "execution_count": 156,
   "id": "f97eb546-38d6-4637-a611-d18189379cf0",
   "metadata": {},
   "outputs": [],
   "source": [
    "with open(\"vocabulary.json\", \"w\") as file:\n",
    "    json.dump(vocabulary, file)\n",
    "file.close()"
   ]
  },
  {
   "cell_type": "markdown",
   "id": "8ef0c5b2-b2c2-41bb-92a4-a177382e9f9b",
   "metadata": {},
   "source": [
    "Creating an inverted index "
   ]
  },
  {
   "cell_type": "code",
   "execution_count": 157,
   "id": "efd6565c-d18d-47d6-bfa8-41f0f941c2ff",
   "metadata": {},
   "outputs": [],
   "source": [
    "inverted_dict = {}"
   ]
  },
  {
   "cell_type": "code",
   "execution_count": 158,
   "id": "5264ecd5-be4a-44fb-8c78-82720e0daf28",
   "metadata": {},
   "outputs": [
    {
     "name": "stderr",
     "output_type": "stream",
     "text": [
      "100%|██████████| 36793/36793 [1:17:26<00:00,  7.92it/s]   \n"
     ]
    }
   ],
   "source": [
    "with open('vocabulary.json') as data_file:    \n",
    "    data = json.load(data_file)\n",
    "    for key, value in tqdm(data.items()):\n",
    "        inverted_list = []\n",
    "        for i in range(0,len(anime_df)):\n",
    "            if(value in anime_df['animeDescription'][i].split()):\n",
    "                anime_name = 'anime_'+str(i+1)\n",
    "                inverted_list.append(anime_name)\n",
    "                inverted_dict.update({key:inverted_list})\n"
   ]
  },
  {
   "cell_type": "markdown",
   "id": "b4a489b6-fcba-4535-a5ab-d0635c6b5365",
   "metadata": {},
   "source": [
    "Saving the inverted index dictionary to a json file"
   ]
  },
  {
   "cell_type": "code",
   "execution_count": 159,
   "id": "6cf27e19-0ff6-4634-80c8-2f6009ad481c",
   "metadata": {},
   "outputs": [],
   "source": [
    "with open(\"inverted.json\", \"w\") as file:\n",
    "    json.dump(inverted_dict, file)\n",
    "file.close()"
   ]
  },
  {
   "cell_type": "code",
   "execution_count": null,
   "id": "abd6aa1f-fc40-4d8e-ada2-49396e80c8c5",
   "metadata": {},
   "outputs": [],
   "source": []
  }
 ],
 "metadata": {
  "kernelspec": {
   "display_name": "Python 3",
   "language": "python",
   "name": "python3"
  },
  "language_info": {
   "codemirror_mode": {
    "name": "ipython",
    "version": 3
   },
   "file_extension": ".py",
   "mimetype": "text/x-python",
   "name": "python",
   "nbconvert_exporter": "python",
   "pygments_lexer": "ipython3",
   "version": "3.8.8"
  }
 },
 "nbformat": 4,
 "nbformat_minor": 5
}
